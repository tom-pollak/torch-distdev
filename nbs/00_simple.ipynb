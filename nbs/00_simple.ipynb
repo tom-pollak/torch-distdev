{
 "cells": [
  {
   "cell_type": "code",
   "execution_count": 1,
   "metadata": {},
   "outputs": [
    {
     "data": {
      "text/plain": [
       "<distdev.cluster.Cluster at 0x7cec5f2bb470>"
      ]
     },
     "execution_count": 1,
     "metadata": {},
     "output_type": "execute_result"
    }
   ],
   "source": [
    "from distdev import init_dist\n",
    "init_dist(nprocs=4)"
   ]
  },
  {
   "cell_type": "code",
   "execution_count": 2,
   "metadata": {},
   "outputs": [
    {
     "name": "stdout",
     "output_type": "stream",
     "text": [
      "[0]: hello from rank 0\n"
     ]
    },
    {
     "name": "stderr",
     "output_type": "stream",
     "text": [
      "On WorkerInfo(id=0, name=w0):\n",
      "KeyError('_dist_user_fn')\n",
      "Traceback (most recent call last):\n",
      "  File \"/home/tom/micromamba/envs/torch-cpu/lib/python3.12/site-packages/torch/distributed/rpc/internal.py\", line 209, in _run_function\n",
      "    result = python_udf.func(*python_udf.args, **python_udf.kwargs)\n",
      "             ^^^^^^^^^^^^^^^^^^^^^^^^^^^^^^^^^^^^^^^^^^^^^^^^^^^^^^\n",
      "  File \"/home/tom/fun/distdev/src/distdev/cluster.py\", line 26, in _install_source\n",
      "    sys.modules[\"__main__\"].__dict__[name] = ns[name]\n",
      "                                             ~~^^^^^^\n",
      "KeyError: '_dist_user_fn'\n",
      "\n"
     ]
    },
    {
     "ename": "RuntimeError",
     "evalue": "KeyError: 'On WorkerInfo(id=0, name=w0):\\nKeyError(\\'_dist_user_fn\\')\\nTraceback (most recent call last):\\n  File \"/home/tom/micromamba/envs/torch-cpu/lib/python3.12/site-packages/torch/distributed/rpc/internal.py\", line 209, in _run_function\\n    result = python_udf.func(*python_udf.args, **python_udf.kwargs)\\n             ^^^^^^^^^^^^^^^^^^^^^^^^^^^^^^^^^^^^^^^^^^^^^^^^^^^^^^\\n  File \"/home/tom/fun/distdev/src/distdev/cluster.py\", line 26, in _install_source\\n    sys.modules[\"__main__\"].__dict__[name] = ns[name]\\n                                             ~~^^^^^^\\nKeyError: \\'_dist_user_fn\\'\\n'\n\nAt:\n  /home/tom/micromamba/envs/torch-cpu/lib/python3.12/site-packages/torch/distributed/rpc/internal.py(236): _handle_exception\n",
     "output_type": "error",
     "traceback": [
      "\u001b[31m---------------------------------------------------------------------------\u001b[39m",
      "\u001b[31mRuntimeError\u001b[39m                              Traceback (most recent call last)",
      "\u001b[36mCell\u001b[39m\u001b[36m \u001b[39m\u001b[32mIn[2]\u001b[39m\u001b[32m, line 1\u001b[39m\n\u001b[32m----> \u001b[39m\u001b[32m1\u001b[39m \u001b[43mget_ipython\u001b[49m\u001b[43m(\u001b[49m\u001b[43m)\u001b[49m\u001b[43m.\u001b[49m\u001b[43mrun_cell_magic\u001b[49m\u001b[43m(\u001b[49m\u001b[33;43m'\u001b[39;49m\u001b[33;43mdistributed\u001b[39;49m\u001b[33;43m'\u001b[39;49m\u001b[43m,\u001b[49m\u001b[43m \u001b[49m\u001b[33;43m'\u001b[39;49m\u001b[33;43m'\u001b[39;49m\u001b[43m,\u001b[49m\u001b[43m \u001b[49m\u001b[33;43m'\u001b[39;49m\u001b[33;43mimport os, logging\u001b[39;49m\u001b[38;5;130;43;01m\\n\u001b[39;49;00m\u001b[33;43mlogging.info(\u001b[39;49m\u001b[33;43m\"\u001b[39;49m\u001b[33;43mhello from rank \u001b[39;49m\u001b[38;5;132;43;01m%s\u001b[39;49;00m\u001b[33;43m\"\u001b[39;49m\u001b[33;43m, os.environ[\u001b[39;49m\u001b[33;43m\"\u001b[39;49m\u001b[33;43mRANK\u001b[39;49m\u001b[33;43m\"\u001b[39;49m\u001b[33;43m])\u001b[39;49m\u001b[38;5;130;43;01m\\n\u001b[39;49;00m\u001b[33;43m'\u001b[39;49m\u001b[43m)\u001b[49m\n",
      "\u001b[36mFile \u001b[39m\u001b[32m~/micromamba/envs/torch-cpu/lib/python3.12/site-packages/IPython/core/interactiveshell.py:2547\u001b[39m, in \u001b[36mInteractiveShell.run_cell_magic\u001b[39m\u001b[34m(self, magic_name, line, cell)\u001b[39m\n\u001b[32m   2545\u001b[39m \u001b[38;5;28;01mwith\u001b[39;00m \u001b[38;5;28mself\u001b[39m.builtin_trap:\n\u001b[32m   2546\u001b[39m     args = (magic_arg_s, cell)\n\u001b[32m-> \u001b[39m\u001b[32m2547\u001b[39m     result = \u001b[43mfn\u001b[49m\u001b[43m(\u001b[49m\u001b[43m*\u001b[49m\u001b[43margs\u001b[49m\u001b[43m,\u001b[49m\u001b[43m \u001b[49m\u001b[43m*\u001b[49m\u001b[43m*\u001b[49m\u001b[43mkwargs\u001b[49m\u001b[43m)\u001b[49m\n\u001b[32m   2549\u001b[39m \u001b[38;5;66;03m# The code below prevents the output from being displayed\u001b[39;00m\n\u001b[32m   2550\u001b[39m \u001b[38;5;66;03m# when using magics with decorator @output_can_be_silenced\u001b[39;00m\n\u001b[32m   2551\u001b[39m \u001b[38;5;66;03m# when the last Python token in the expression is a ';'.\u001b[39;00m\n\u001b[32m   2552\u001b[39m \u001b[38;5;28;01mif\u001b[39;00m \u001b[38;5;28mgetattr\u001b[39m(fn, magic.MAGIC_OUTPUT_CAN_BE_SILENCED, \u001b[38;5;28;01mFalse\u001b[39;00m):\n",
      "\u001b[36mFile \u001b[39m\u001b[32m~/fun/distdev/src/distdev/magic.py:31\u001b[39m, in \u001b[36m_maybe_register_magic.<locals>._distributed_magic\u001b[39m\u001b[34m(line, cell)\u001b[39m\n\u001b[32m     29\u001b[39m fn = ns[\u001b[33m\"\u001b[39m\u001b[33m_dist_user_fn\u001b[39m\u001b[33m\"\u001b[39m]\n\u001b[32m     30\u001b[39m fn.__source__ = cell\n\u001b[32m---> \u001b[39m\u001b[32m31\u001b[39m \u001b[38;5;28;01mreturn\u001b[39;00m \u001b[43mcl\u001b[49m\u001b[43m.\u001b[49m\u001b[43mlaunch\u001b[49m\u001b[43m(\u001b[49m\u001b[43mfn\u001b[49m\u001b[43m)\u001b[49m\n",
      "\u001b[36mFile \u001b[39m\u001b[32m~/fun/distdev/src/distdev/cluster.py:103\u001b[39m, in \u001b[36mCluster.launch\u001b[39m\u001b[34m(self, fn, *a, **kw)\u001b[39m\n\u001b[32m    101\u001b[39m listener = _mk_log_listener(\u001b[38;5;28mself\u001b[39m._log_q)\n\u001b[32m    102\u001b[39m listener.start()\n\u001b[32m--> \u001b[39m\u001b[32m103\u001b[39m \u001b[38;5;28;43mself\u001b[39;49m\u001b[43m.\u001b[49m\u001b[43m_register\u001b[49m\u001b[43m(\u001b[49m\u001b[43mfn\u001b[49m\u001b[43m)\u001b[49m\n\u001b[32m    104\u001b[39m \u001b[38;5;28;01mtry\u001b[39;00m:\n\u001b[32m    105\u001b[39m     resp = \u001b[38;5;28mtuple\u001b[39m(\n\u001b[32m    106\u001b[39m         [\n\u001b[32m    107\u001b[39m             rpc.rpc_sync(\u001b[33mf\u001b[39m\u001b[33m\"\u001b[39m\u001b[33mw\u001b[39m\u001b[38;5;132;01m{\u001b[39;00mi\u001b[38;5;132;01m}\u001b[39;00m\u001b[33m\"\u001b[39m, fn, args=a, kwargs=kw)\n\u001b[32m    108\u001b[39m             \u001b[38;5;28;01mfor\u001b[39;00m i \u001b[38;5;129;01min\u001b[39;00m \u001b[38;5;28mrange\u001b[39m(\u001b[38;5;28mself\u001b[39m.nprocs)\n\u001b[32m    109\u001b[39m         ]\n\u001b[32m    110\u001b[39m     )\n",
      "\u001b[36mFile \u001b[39m\u001b[32m~/fun/distdev/src/distdev/cluster.py:98\u001b[39m, in \u001b[36mCluster._register\u001b[39m\u001b[34m(self, fn)\u001b[39m\n\u001b[32m     96\u001b[39m     src = textwrap.dedent(inspect.getsource(fn))\n\u001b[32m     97\u001b[39m \u001b[38;5;28;01mfor\u001b[39;00m i \u001b[38;5;129;01min\u001b[39;00m \u001b[38;5;28mrange\u001b[39m(\u001b[38;5;28mself\u001b[39m.nprocs):\n\u001b[32m---> \u001b[39m\u001b[32m98\u001b[39m     \u001b[43mrpc\u001b[49m\u001b[43m.\u001b[49m\u001b[43mrpc_sync\u001b[49m\u001b[43m(\u001b[49m\u001b[33;43mf\u001b[39;49m\u001b[33;43m\"\u001b[39;49m\u001b[33;43mw\u001b[39;49m\u001b[38;5;132;43;01m{\u001b[39;49;00m\u001b[43mi\u001b[49m\u001b[38;5;132;43;01m}\u001b[39;49;00m\u001b[33;43m\"\u001b[39;49m\u001b[43m,\u001b[49m\u001b[43m \u001b[49m\u001b[43m_install_source\u001b[49m\u001b[43m,\u001b[49m\u001b[43m \u001b[49m\u001b[43margs\u001b[49m\u001b[43m=\u001b[49m\u001b[43m(\u001b[49m\u001b[43msrc\u001b[49m\u001b[43m,\u001b[49m\u001b[43m \u001b[49m\u001b[43mfn\u001b[49m\u001b[43m.\u001b[49m\u001b[34;43m__name__\u001b[39;49m\u001b[43m)\u001b[49m\u001b[43m)\u001b[49m\n",
      "\u001b[36mFile \u001b[39m\u001b[32m~/micromamba/envs/torch-cpu/lib/python3.12/site-packages/torch/distributed/rpc/api.py:94\u001b[39m, in \u001b[36m_require_initialized.<locals>.wrapper\u001b[39m\u001b[34m(*args, **kwargs)\u001b[39m\n\u001b[32m     89\u001b[39m \u001b[38;5;28;01mif\u001b[39;00m \u001b[38;5;129;01mnot\u001b[39;00m _is_current_rpc_agent_set():\n\u001b[32m     90\u001b[39m     \u001b[38;5;28;01mraise\u001b[39;00m \u001b[38;5;167;01mRuntimeError\u001b[39;00m(\n\u001b[32m     91\u001b[39m         \u001b[33m\"\u001b[39m\u001b[33mRPC has not been initialized. Call \u001b[39m\u001b[33m\"\u001b[39m\n\u001b[32m     92\u001b[39m         \u001b[33m\"\u001b[39m\u001b[33mtorch.distributed.rpc.init_rpc first.\u001b[39m\u001b[33m\"\u001b[39m\n\u001b[32m     93\u001b[39m     )\n\u001b[32m---> \u001b[39m\u001b[32m94\u001b[39m \u001b[38;5;28;01mreturn\u001b[39;00m \u001b[43mfunc\u001b[49m\u001b[43m(\u001b[49m\u001b[43m*\u001b[49m\u001b[43margs\u001b[49m\u001b[43m,\u001b[49m\u001b[43m \u001b[49m\u001b[43m*\u001b[49m\u001b[43m*\u001b[49m\u001b[43mkwargs\u001b[49m\u001b[43m)\u001b[49m\n",
      "\u001b[36mFile \u001b[39m\u001b[32m~/micromamba/envs/torch-cpu/lib/python3.12/site-packages/torch/distributed/rpc/api.py:828\u001b[39m, in \u001b[36mrpc_sync\u001b[39m\u001b[34m(to, func, args, kwargs, timeout)\u001b[39m\n\u001b[32m    826\u001b[39m torch._C._log_api_usage_once(\u001b[33m\"\u001b[39m\u001b[33mtorch.distributed.rpc_sync\u001b[39m\u001b[33m\"\u001b[39m)\n\u001b[32m    827\u001b[39m fut = _invoke_rpc(to, func, RPCExecMode.SYNC, args, kwargs, timeout)\n\u001b[32m--> \u001b[39m\u001b[32m828\u001b[39m \u001b[38;5;28;01mreturn\u001b[39;00m \u001b[43mfut\u001b[49m\u001b[43m.\u001b[49m\u001b[43mwait\u001b[49m\u001b[43m(\u001b[49m\u001b[43m)\u001b[49m\n",
      "\u001b[31mRuntimeError\u001b[39m: KeyError: 'On WorkerInfo(id=0, name=w0):\\nKeyError(\\'_dist_user_fn\\')\\nTraceback (most recent call last):\\n  File \"/home/tom/micromamba/envs/torch-cpu/lib/python3.12/site-packages/torch/distributed/rpc/internal.py\", line 209, in _run_function\\n    result = python_udf.func(*python_udf.args, **python_udf.kwargs)\\n             ^^^^^^^^^^^^^^^^^^^^^^^^^^^^^^^^^^^^^^^^^^^^^^^^^^^^^^\\n  File \"/home/tom/fun/distdev/src/distdev/cluster.py\", line 26, in _install_source\\n    sys.modules[\"__main__\"].__dict__[name] = ns[name]\\n                                             ~~^^^^^^\\nKeyError: \\'_dist_user_fn\\'\\n'\n\nAt:\n  /home/tom/micromamba/envs/torch-cpu/lib/python3.12/site-packages/torch/distributed/rpc/internal.py(236): _handle_exception\n"
     ]
    }
   ],
   "source": [
    "%%distributed\n",
    "import os, logging\n",
    "logging.info(\"hello from rank %s\", os.environ[\"RANK\"])"
   ]
  }
 ],
 "metadata": {
  "kernelspec": {
   "display_name": "Python 3",
   "language": "python",
   "name": "python3"
  },
  "language_info": {
   "codemirror_mode": {
    "name": "ipython",
    "version": 3
   },
   "file_extension": ".py",
   "mimetype": "text/x-python",
   "name": "python",
   "nbconvert_exporter": "python",
   "pygments_lexer": "ipython3",
   "version": "3.12.10"
  }
 },
 "nbformat": 4,
 "nbformat_minor": 2
}
