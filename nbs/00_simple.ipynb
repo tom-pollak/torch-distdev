{
 "cells": [
  {
   "cell_type": "code",
   "execution_count": 1,
   "metadata": {},
   "outputs": [
    {
     "name": "stderr",
     "output_type": "stream",
     "text": [
      "[W429 17:21:39.276849000 ProcessGroupGloo.cpp:757] Warning: Unable to resolve hostname to a (local) address. Using the loopback address as fallback. Manually set the network interface to bind to with GLOO_SOCKET_IFNAME. (function operator())\n",
      "[W429 17:21:39.276862000 ProcessGroupGloo.cpp:757] Warning: Unable to resolve hostname to a (local) address. Using the loopback address as fallback. Manually set the network interface to bind to with GLOO_SOCKET_IFNAME. (function operator())\n",
      "[W429 17:21:39.276868000 ProcessGroupGloo.cpp:757] Warning: Unable to resolve hostname to a (local) address. Using the loopback address as fallback. Manually set the network interface to bind to with GLOO_SOCKET_IFNAME. (function operator())\n",
      "[W429 17:21:39.431952000 ProcessGroupGloo.cpp:757] Warning: Unable to resolve hostname to a (local) address. Using the loopback address as fallback. Manually set the network interface to bind to with GLOO_SOCKET_IFNAME. (function operator())\n",
      "[W429 17:21:39.438764000 ProcessGroupGloo.cpp:757] Warning: Unable to resolve hostname to a (local) address. Using the loopback address as fallback. Manually set the network interface to bind to with GLOO_SOCKET_IFNAME. (function operator())\n",
      "[rank2]:[W429 17:21:39.473032000 tensorpipe_agent.cpp:178] Failed to look up the IP address for the hostname (EAI_NONAME: unknown node or service (this error originated at tensorpipe/transport/uv/utility.cc:97)), defaulting to 127.0.0.1\n",
      "[rank1]:[W429 17:21:39.473059000 tensorpipe_agent.cpp:178] Failed to look up the IP address for the hostname (EAI_NONAME: unknown node or service (this error originated at tensorpipe/transport/uv/utility.cc:97)), defaulting to 127.0.0.1\n",
      "[rank3]:[W429 17:21:39.473035000 tensorpipe_agent.cpp:178] Failed to look up the IP address for the hostname (EAI_NONAME: unknown node or service (this error originated at tensorpipe/transport/uv/utility.cc:97)), defaulting to 127.0.0.1\n",
      "[rank0]:[W429 17:21:39.473030000 tensorpipe_agent.cpp:178] Failed to look up the IP address for the hostname (EAI_NONAME: unknown node or service (this error originated at tensorpipe/transport/uv/utility.cc:97)), defaulting to 127.0.0.1\n",
      "[rank4]:[W429 17:21:39.473392000 tensorpipe_agent.cpp:178] Failed to look up the IP address for the hostname (EAI_NONAME: unknown node or service (this error originated at tensorpipe/transport/uv/utility.cc:97)), defaulting to 127.0.0.1\n"
     ]
    }
   ],
   "source": [
    "from torch_distdev import init_dist\n",
    "\n",
    "cluster = init_dist(\"cpu\", nprocs=4)"
   ]
  },
  {
   "cell_type": "code",
   "execution_count": 2,
   "metadata": {},
   "outputs": [
    {
     "name": "stdout",
     "output_type": "stream",
     "text": [
      "[0]: hello from rank 0\n",
      "[1]: hello from rank 1\n",
      "[2]: hello from rank 2\n",
      "[3]: hello from rank 3\n"
     ]
    },
    {
     "data": {
      "text/plain": [
       "(0, 1, 2, 3)"
      ]
     },
     "execution_count": 2,
     "metadata": {},
     "output_type": "execute_result"
    }
   ],
   "source": [
    "def main():\n",
    "    import logging\n",
    "    import os\n",
    "    logging.info(f\"hello from rank {os.environ['RANK']}\")\n",
    "    return int(os.environ[\"RANK\"])\n",
    "\n",
    "cluster.launch(main)"
   ]
  },
  {
   "cell_type": "code",
   "execution_count": 3,
   "metadata": {},
   "outputs": [
    {
     "name": "stdout",
     "output_type": "stream",
     "text": [
      "[0]: hello from rank 0\n",
      "[1]: hello from rank 1\n",
      "[2]: hello from rank 2\n",
      "[3]: hello from rank 3\n"
     ]
    },
    {
     "data": {
      "text/plain": [
       "((0, 4), (1, 4), (2, 4), (3, 4))"
      ]
     },
     "execution_count": 3,
     "metadata": {},
     "output_type": "execute_result"
    }
   ],
   "source": [
    "%%distributed\n",
    "import os, logging\n",
    "logging.info(f\"hello from rank {os.environ['RANK']}\")\n",
    "int(os.environ[\"RANK\"]), int(os.environ[\"WORLD_SIZE\"])"
   ]
  },
  {
   "cell_type": "code",
   "execution_count": 4,
   "metadata": {},
   "outputs": [
    {
     "name": "stdout",
     "output_type": "stream",
     "text": [
      "[0]: hello from rank 0\n",
      "[1]: hello from rank 1\n",
      "[2]: hello from rank 2\n",
      "[3]: hello from rank 3\n"
     ]
    },
    {
     "data": {
      "text/plain": [
       "((0, 4), (1, 4), (2, 4), (3, 4))"
      ]
     },
     "execution_count": 4,
     "metadata": {},
     "output_type": "execute_result"
    }
   ],
   "source": [
    "%%distributed\n",
    "import os, logging\n",
    "a = os.environ['RANK']\n",
    "logging.info(f\"hello from rank {os.environ['RANK']}\")\n",
    "int(os.environ[\"RANK\"]), int(os.environ[\"WORLD_SIZE\"])"
   ]
  },
  {
   "cell_type": "code",
   "execution_count": 5,
   "metadata": {},
   "outputs": [
    {
     "name": "stdout",
     "output_type": "stream",
     "text": [
      "[0]: 0\n",
      "[1]: 1\n",
      "[2]: 2\n",
      "[3]: 3\n"
     ]
    },
    {
     "data": {
      "text/plain": [
       "(None, None, None, None)"
      ]
     },
     "execution_count": 5,
     "metadata": {},
     "output_type": "execute_result"
    }
   ],
   "source": [
    "%%distributed\n",
    "logging.info(a)"
   ]
  }
 ],
 "metadata": {
  "kernelspec": {
   "display_name": "Python 3 (ipykernel)",
   "language": "python",
   "name": "python3"
  },
  "language_info": {
   "codemirror_mode": {
    "name": "ipython",
    "version": 3
   },
   "file_extension": ".py",
   "mimetype": "text/x-python",
   "name": "python",
   "nbconvert_exporter": "python",
   "pygments_lexer": "ipython3",
   "version": "3.12.10"
  }
 },
 "nbformat": 4,
 "nbformat_minor": 4
}
